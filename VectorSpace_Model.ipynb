{
 "cells": [
  {
   "cell_type": "markdown",
   "metadata": {},
   "source": [
    "# Text Retrieval\n",
    "There are 2 standard models for retrieving text data.\n",
    "1. Boolean Retrieval Model\n",
    "2. Vector Space Model\n",
    "\n",
    "The aim of any information retrieval model is to retrieve documents related to a query."
   ]
  },
  {
   "cell_type": "markdown",
   "metadata": {},
   "source": [
    "##  Vector Space Model\n",
    "In this model, every document and query is represented as a vector and closest vector as measured by cosine distance is considered as the correct answer."
   ]
  },
  {
   "cell_type": "code",
   "execution_count": 1,
   "metadata": {},
   "outputs": [],
   "source": [
    "#import numpy and pandas libraries\n",
    "import numpy as np\n",
    "import pandas as pd"
   ]
  },
  {
   "cell_type": "code",
   "execution_count": 2,
   "metadata": {},
   "outputs": [
    {
     "data": {
      "text/html": [
       "<div>\n",
       "<style scoped>\n",
       "    .dataframe tbody tr th:only-of-type {\n",
       "        vertical-align: middle;\n",
       "    }\n",
       "\n",
       "    .dataframe tbody tr th {\n",
       "        vertical-align: top;\n",
       "    }\n",
       "\n",
       "    .dataframe thead th {\n",
       "        text-align: right;\n",
       "    }\n",
       "</style>\n",
       "<table border=\"1\" class=\"dataframe\">\n",
       "  <thead>\n",
       "    <tr style=\"text-align: right;\">\n",
       "      <th></th>\n",
       "      <th>album</th>\n",
       "      <th>track_title</th>\n",
       "      <th>lyric</th>\n",
       "      <th>year</th>\n",
       "    </tr>\n",
       "  </thead>\n",
       "  <tbody>\n",
       "    <tr>\n",
       "      <td>0</td>\n",
       "      <td>Taylor Swift</td>\n",
       "      <td>Tim McGraw</td>\n",
       "      <td>He said the way my blue eyes shined Put those ...</td>\n",
       "      <td>2006</td>\n",
       "    </tr>\n",
       "    <tr>\n",
       "      <td>1</td>\n",
       "      <td>Taylor Swift</td>\n",
       "      <td>Picture To Burn</td>\n",
       "      <td>State the obvious, I didn't get my perfect fan...</td>\n",
       "      <td>2006</td>\n",
       "    </tr>\n",
       "    <tr>\n",
       "      <td>2</td>\n",
       "      <td>Taylor Swift</td>\n",
       "      <td>Teardrops On My Guitar</td>\n",
       "      <td>Drew looks at me I fake a smile so he won't se...</td>\n",
       "      <td>2006</td>\n",
       "    </tr>\n",
       "    <tr>\n",
       "      <td>3</td>\n",
       "      <td>Taylor Swift</td>\n",
       "      <td>A Place In This World</td>\n",
       "      <td>I don't know what I want, so don't ask me Caus...</td>\n",
       "      <td>2006</td>\n",
       "    </tr>\n",
       "    <tr>\n",
       "      <td>4</td>\n",
       "      <td>Taylor Swift</td>\n",
       "      <td>Cold as You</td>\n",
       "      <td>You have a way of coming easily to me And when...</td>\n",
       "      <td>2006</td>\n",
       "    </tr>\n",
       "  </tbody>\n",
       "</table>\n",
       "</div>"
      ],
      "text/plain": [
       "          album             track_title  \\\n",
       "0  Taylor Swift              Tim McGraw   \n",
       "1  Taylor Swift         Picture To Burn   \n",
       "2  Taylor Swift  Teardrops On My Guitar   \n",
       "3  Taylor Swift   A Place In This World   \n",
       "4  Taylor Swift             Cold as You   \n",
       "\n",
       "                                               lyric  year  \n",
       "0  He said the way my blue eyes shined Put those ...  2006  \n",
       "1  State the obvious, I didn't get my perfect fan...  2006  \n",
       "2  Drew looks at me I fake a smile so he won't se...  2006  \n",
       "3  I don't know what I want, so don't ask me Caus...  2006  \n",
       "4  You have a way of coming easily to me And when...  2006  "
      ]
     },
     "execution_count": 2,
     "metadata": {},
     "output_type": "execute_result"
    }
   ],
   "source": [
    "#Read the given csv dataset into dataframe df\n",
    "df = pd.read_csv('modified_song_lyrics.csv') \n",
    "\n",
    "#List first 5 rows\n",
    "df.head(5)\n"
   ]
  },
  {
   "cell_type": "markdown",
   "metadata": {},
   "source": [
    "**Documentation Reference:**<br>\n",
    "1. https://scikit-learn.org/stable/modules/generated/sklearn.feature_extraction.text.TfidfVectorizer.html\n",
    "2. https://scikit-learn.org/stable/modules/generated/sklearn.metrics.pairwise.cosine_similarity.html\n",
    "\n",
    "**Step 1. Import above references"
   ]
  },
  {
   "cell_type": "code",
   "execution_count": 3,
   "metadata": {},
   "outputs": [],
   "source": [
    "#import required libraries for tfidf & similarities \n",
    "from sklearn.feature_extraction.text import TfidfVectorizer\n",
    "from sklearn.metrics.pairwise import cosine_similarity"
   ]
  },
  {
   "cell_type": "markdown",
   "metadata": {},
   "source": [
    "**Step 2. Create a 'vectorizer' object of 'TfidfVectorizer' - 1 Mark**"
   ]
  },
  {
   "cell_type": "code",
   "execution_count": 4,
   "metadata": {},
   "outputs": [],
   "source": [
    "#Create the object from tfidf \n",
    "vectorizer = TfidfVectorizer()"
   ]
  },
  {
   "cell_type": "markdown",
   "metadata": {},
   "source": [
    "Here we attempt to calculate tf-idf scores of the terms (lyrics). We do that by doing the following. <br> \n",
    "**Fit and transform the lyric column using vectorizer** <br>\n",
    "X object is a matrix of size (n_songs,n_unique_words) where each entry is tf-idf score of the word in this song. Verify this using X.shape method"
   ]
  },
  {
   "cell_type": "code",
   "execution_count": 5,
   "metadata": {},
   "outputs": [
    {
     "name": "stdout",
     "output_type": "stream",
     "text": [
      "(94, 2301)\n"
     ]
    }
   ],
   "source": [
    "#Transform lyrics data into vectorized notation\n",
    "X = vectorizer.fit_transform(df.lyric)\n",
    "\n",
    "#Print the shape post transformation\n",
    "print (X.shape)"
   ]
  },
  {
   "cell_type": "markdown",
   "metadata": {},
   "source": [
    "**. Use 'transform' method of vectorizer on 'query' and store in 'query_vec' - .**<br>\n",
    "This method converts a text value into a tf-idf vector"
   ]
  },
  {
   "cell_type": "code",
   "execution_count": 6,
   "metadata": {},
   "outputs": [],
   "source": [
    "query = \"Take it easy, with me\"\n",
    "#Transform text query into list & pass into transform method\n",
    "query_vec = vectorizer.transform([query])"
   ]
  },
  {
   "cell_type": "markdown",
   "metadata": {},
   "source": [
    "**. Use 'cosine_similarity' on 'X' and 'query_vec' store it in 'results' .**"
   ]
  },
  {
   "cell_type": "code",
   "execution_count": 7,
   "metadata": {},
   "outputs": [],
   "source": [
    "#Perform cosine similiarity between available corpus and given query\n",
    "results = cosine_similarity(X,query_vec)"
   ]
  },
  {
   "cell_type": "code",
   "execution_count": 8,
   "metadata": {},
   "outputs": [
    {
     "name": "stdout",
     "output_type": "stream",
     "text": [
      "Query fired for all documents --  Take it easy, with me\n",
      "\n",
      "Song Name --  Breathe (Ft. Colbie Caillat)\n",
      "\n",
      "Song Lyrics -- \n",
      " I see your face in my mind as I drive away 'Cause none of us thought it was Going to end that way People are people And sometimes we change our minds But it's killing me to see you go after all this time Mm mm mm, mm mm mm, mm mm Mm mm mm, mm mm mm, mm mm Music starts playing like the end of a sad movie It's the kind of ending you Don't really want to see 'Cause it's tragedy and it'll only bring you Down Now I don't know what to be without you around And we know it's never simple, never easy Never a clean break, no one here to Save me You're the only thing I know like the back of my hand And I can't Breathe Without you but I have to breathe Without you but I have to Never wanted this, never want to see you hurt Every little bump in the road I tried to swerve But people are people And sometimes it doesn't work out Nothing we say is gonna save us from the fall out It's 2 A.M Feeling like I just lost a friend Hope you know it's not easy Easy for me It's 2 A.M Feeling like I just lost a friend Hope you know this ain't easy Easy for me Sorry, sorry Sorry, (Yeah eh) sorry Sorry, sorry Sorry\n"
     ]
    }
   ],
   "source": [
    "# Print Name of the song\n",
    "song_index = np.argmax(results.reshape((-1,)))\n",
    "\n",
    "#Print query details \n",
    "print ('Query fired for all documents -- ', query)\n",
    "\n",
    "#Print the details to get required track title. \n",
    "print('\\nSong Name -- ',df.track_title[song_index]) # add song name here \n",
    "\n",
    "#Print the lyrics as well to get the insights to compare the results with query \n",
    "print('\\nSong Lyrics -- \\n',df.lyric[song_index])"
   ]
  }
 ],
 "metadata": {
  "kernelspec": {
   "display_name": "Python 3",
   "language": "python",
   "name": "python3"
  },
  "language_info": {
   "codemirror_mode": {
    "name": "ipython",
    "version": 3
   },
   "file_extension": ".py",
   "mimetype": "text/x-python",
   "name": "python",
   "nbconvert_exporter": "python",
   "pygments_lexer": "ipython3",
   "version": "3.7.4"
  }
 },
 "nbformat": 4,
 "nbformat_minor": 2
}
